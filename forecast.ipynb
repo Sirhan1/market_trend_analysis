{
 "cells": [
  {
   "cell_type": "code",
   "execution_count": null,
   "id": "88f9d6ec",
   "metadata": {},
   "outputs": [
    {
     "name": "stdout",
     "output_type": "stream",
     "text": [
      "Hello world\n"
     ]
    }
   ],
   "source": [
    "print(\"Hello from VS Code!\")\n",
    "\n",
    "# Math test\n",
    "x = 7\n",
    "y = 3\n",
    "print(\"x + y =\", x + y)\n",
    "\n",
    "# Loop test\n",
    "for i in range(5):\n",
    "    print(\"Number:\", i)\n",
    "\n",
    "# Numpy test\n",
    "import numpy as np\n",
    "arr = np.array([1, 2, 3, 4, 5])\n",
    "print(\"Numpy array:\", arr)\n",
    "print(\"Mean:\", arr.mean())\n",
    "\n",
    "# Matplotlib test\n",
    "import matplotlib.pyplot as plt\n",
    "plt.plot([1, 2, 3, 4], [10, 20, 25, 30])\n",
    "plt.title(\"Test Plot\")\n",
    "plt.show()"
   ]
  }
 ],
 "metadata": {
  "kernelspec": {
   "display_name": ".venv (3.12.3)",
   "language": "python",
   "name": "python3"
  },
  "language_info": {
   "codemirror_mode": {
    "name": "ipython",
    "version": 3
   },
   "file_extension": ".py",
   "mimetype": "text/x-python",
   "name": "python",
   "nbconvert_exporter": "python",
   "pygments_lexer": "ipython3",
   "version": "3.12.3"
  }
 },
 "nbformat": 4,
 "nbformat_minor": 5
}
